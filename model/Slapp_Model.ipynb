{
  "nbformat": 4,
  "nbformat_minor": 0,
  "metadata": {
    "colab": {
      "provenance": []
    },
    "kernelspec": {
      "name": "python3",
      "display_name": "Python 3"
    },
    "language_info": {
      "name": "python"
    }
  },
  "cells": [
    {
      "cell_type": "code",
      "source": [
        "!pip install yfinance"
      ],
      "metadata": {
        "id": "1o7GlQ-J9hoy"
      },
      "execution_count": null,
      "outputs": []
    },
    {
      "cell_type": "code",
      "execution_count": null,
      "metadata": {
        "id": "zfRlpSWUD1y4"
      },
      "outputs": [],
      "source": [
        "import yfinance as yf"
      ]
    },
    {
      "cell_type": "code",
      "source": [
        "sp500 = yf.Ticker(\"^GSPC\")"
      ],
      "metadata": {
        "id": "Ct0RUxDF8fXL"
      },
      "execution_count": null,
      "outputs": []
    },
    {
      "cell_type": "code",
      "source": [
        "sp500 = sp500.history(period=\"max\") "
      ],
      "metadata": {
        "id": "t4ObyG949Cgy"
      },
      "execution_count": null,
      "outputs": []
    },
    {
      "cell_type": "code",
      "source": [
        "sp500"
      ],
      "metadata": {
        "id": "LXO1Z8zP9LH_"
      },
      "execution_count": null,
      "outputs": []
    },
    {
      "cell_type": "code",
      "source": [
        "del sp500[\"Dividends\"]\n",
        "del sp500[\"Stock Splits\"]"
      ],
      "metadata": {
        "id": "q7LzHAHK-UhX"
      },
      "execution_count": null,
      "outputs": []
    },
    {
      "cell_type": "code",
      "source": [
        "sp500"
      ],
      "metadata": {
        "id": "ZPxNw8aX-hmu"
      },
      "execution_count": null,
      "outputs": []
    },
    {
      "cell_type": "code",
      "source": [
        "sp500[\"Tomorrow Price\"] = sp500[\"Close\"].shift(-1)"
      ],
      "metadata": {
        "id": "ImA_1R6e-kt1"
      },
      "execution_count": null,
      "outputs": []
    },
    {
      "cell_type": "code",
      "source": [
        "sp500"
      ],
      "metadata": {
        "id": "1GOgqKLE_yM6"
      },
      "execution_count": null,
      "outputs": []
    },
    {
      "cell_type": "code",
      "source": [
        "sp500[\"Target\"] = (sp500[\"Tomorrow Price\"] > sp500[\"Close\"]).astype(int)"
      ],
      "metadata": {
        "id": "8ib_i4bW_4AG"
      },
      "execution_count": null,
      "outputs": []
    },
    {
      "cell_type": "code",
      "source": [
        "sp500"
      ],
      "metadata": {
        "id": "m1HVYmIXA8OX"
      },
      "execution_count": null,
      "outputs": []
    },
    {
      "cell_type": "code",
      "source": [
        "sp500 = sp500.loc[\"1990-01-01\":].copy()"
      ],
      "metadata": {
        "id": "5w_Fs5xTA_PN"
      },
      "execution_count": null,
      "outputs": []
    },
    {
      "cell_type": "code",
      "source": [
        "sp500"
      ],
      "metadata": {
        "id": "hE-bOlUZBVkX"
      },
      "execution_count": null,
      "outputs": []
    },
    {
      "cell_type": "code",
      "source": [
        "from sklearn.ensemble import RandomForestClassifier\n",
        "\n",
        "model = RandomForestClassifier(n_estimators=100, min_samples_split=100, random_state=1)\n",
        "\n",
        "train = sp500.iloc[:-100]\n",
        "test = sp500.iloc[-100:]\n",
        "\n",
        "predictors = [\"Close\", \"Volume\", \"Open\", \"High\", \"Low\"]\n",
        "model.fit(train[predictors], train[\"Target\"])"
      ],
      "metadata": {
        "colab": {
          "base_uri": "https://localhost:8080/"
        },
        "id": "hglB5sENBa5Q",
        "outputId": "12cd7636-7aef-4a64-a4e3-7e59340a696b"
      },
      "execution_count": null,
      "outputs": [
        {
          "output_type": "execute_result",
          "data": {
            "text/plain": [
              "RandomForestClassifier(min_samples_split=100, random_state=1)"
            ]
          },
          "metadata": {},
          "execution_count": 19
        }
      ]
    },
    {
      "cell_type": "code",
      "source": [
        "from sklearn.metrics import precision_score\n",
        "\n",
        "predictions = model.predict(test[predictors])"
      ],
      "metadata": {
        "id": "fZkch1MnEKCK"
      },
      "execution_count": null,
      "outputs": []
    },
    {
      "cell_type": "code",
      "source": [
        "import pandas as pd\n",
        "predictions = pd.Series(predictions, index=test.index)"
      ],
      "metadata": {
        "id": "TG6u5kKZEpgE"
      },
      "execution_count": null,
      "outputs": []
    },
    {
      "cell_type": "code",
      "source": [
        "precision_score(test[\"Target\"], predictions)"
      ],
      "metadata": {
        "colab": {
          "base_uri": "https://localhost:8080/"
        },
        "id": "__YgBgk8E9Pc",
        "outputId": "d9a9cdf4-dba6-4d8f-ecea-3f1216626891"
      },
      "execution_count": null,
      "outputs": [
        {
          "output_type": "execute_result",
          "data": {
            "text/plain": [
              "0.3972602739726027"
            ]
          },
          "metadata": {},
          "execution_count": 25
        }
      ]
    },
    {
      "cell_type": "code",
      "source": [
        "def predict(train, test, predictors, model): \n",
        "    model.fit(train[predictors], train[\"Target\"])\n",
        "    predictions = model.predict(test[predictors])\n",
        "    predictions = pd.Series(predictions, index=test.index, name=\"Predictions\")\n",
        "    combined = pd.concat([test[\"Target\"], predictions], axis=1)\n",
        "    return combined\n"
      ],
      "metadata": {
        "id": "5V2gHw1XFNMY"
      },
      "execution_count": null,
      "outputs": []
    },
    {
      "cell_type": "code",
      "source": [
        "def backtest(data, model, predictors, start=2500, step=250):\n",
        "    all_predictions = []\n",
        "\n",
        "    for i in range(start, data.shape[0], step):\n",
        "      train = data.iloc[0:i].copy()\n",
        "      test = data.iloc[i:(i+step)].copy()\n",
        "      predictions1 = predict(train, test, predictors, model)\n",
        "      all_predictions.append(predictions1)\n",
        "    return pd.concat(all_predictions)"
      ],
      "metadata": {
        "id": "n2g3wOinHpvJ"
      },
      "execution_count": null,
      "outputs": []
    },
    {
      "cell_type": "code",
      "source": [
        "predictions1 = backtest(sp500, model, predictors)"
      ],
      "metadata": {
        "id": "u8NXyJMSIj1c"
      },
      "execution_count": null,
      "outputs": []
    },
    {
      "cell_type": "code",
      "source": [
        "predictions1[\"Predictions\"].value_counts()"
      ],
      "metadata": {
        "colab": {
          "base_uri": "https://localhost:8080/"
        },
        "id": "qXhCU6H4JnnF",
        "outputId": "46d69924-6c6c-4a46-ab6c-427f388dcd66"
      },
      "execution_count": null,
      "outputs": [
        {
          "output_type": "execute_result",
          "data": {
            "text/plain": [
              "0    3341\n",
              "1    2435\n",
              "Name: Predictions, dtype: int64"
            ]
          },
          "metadata": {},
          "execution_count": 32
        }
      ]
    },
    {
      "cell_type": "code",
      "source": [
        "precision_score(predictions1[\"Target\"], predictions1[\"Predictions\"])"
      ],
      "metadata": {
        "colab": {
          "base_uri": "https://localhost:8080/"
        },
        "id": "WU0wO6qbJy9O",
        "outputId": "2da9d0bb-8ec7-454f-be7d-692532908a68"
      },
      "execution_count": null,
      "outputs": [
        {
          "output_type": "execute_result",
          "data": {
            "text/plain": [
              "0.5314168377823408"
            ]
          },
          "metadata": {},
          "execution_count": 33
        }
      ]
    },
    {
      "cell_type": "code",
      "source": [
        "predictions1[\"Target\"].value_counts() / predictions1.shape[0]"
      ],
      "metadata": {
        "colab": {
          "base_uri": "https://localhost:8080/"
        },
        "id": "Bi7cWoAUKLC-",
        "outputId": "024a582e-f16b-479e-9a19-66acb7fa737a"
      },
      "execution_count": null,
      "outputs": [
        {
          "output_type": "execute_result",
          "data": {
            "text/plain": [
              "1    0.534626\n",
              "0    0.465374\n",
              "Name: Target, dtype: float64"
            ]
          },
          "metadata": {},
          "execution_count": 39
        }
      ]
    },
    {
      "cell_type": "code",
      "source": [
        "horizons = [2,5,60,250,1000]\n",
        "new_predictors = []\n",
        "\n",
        "for horizon in horizons:\n",
        "   rolling_averages = sp500.rolling(horizon).mean()\n",
        "\n",
        "   ratio_column = f\"Close_Ratio_{horizon}\"\n",
        "   sp500[ratio_column] = sp500[\"Close\"] / rolling_averages[\"Close\"]\n",
        "\n",
        "   trend_column = f\"Trend_{horizon}\"\n",
        "   sp500[trend_column] = sp500.shift(1).rolling(horizon).sum()[\"Target\"]\n",
        "\n",
        "   new_predictors += [ratio_column, trend_column]"
      ],
      "metadata": {
        "id": "IqNzNgfmKptr"
      },
      "execution_count": null,
      "outputs": []
    },
    {
      "cell_type": "code",
      "source": [
        "sp500 = sp500.dropna()"
      ],
      "metadata": {
        "id": "XI9YTbPpasl1"
      },
      "execution_count": null,
      "outputs": []
    },
    {
      "cell_type": "code",
      "source": [
        "sp500"
      ],
      "metadata": {
        "colab": {
          "base_uri": "https://localhost:8080/",
          "height": 1000
        },
        "id": "LS2j19nSQL9w",
        "outputId": "0fecf243-9217-4989-835b-c9aa06aa63c1"
      },
      "execution_count": null,
      "outputs": [
        {
          "output_type": "execute_result",
          "data": {
            "text/plain": [
              "                                  Open         High          Low        Close  \\\n",
              "Date                                                                            \n",
              "1993-12-14 00:00:00-05:00   465.730011   466.119995   462.459991   463.059998   \n",
              "1993-12-15 00:00:00-05:00   463.059998   463.690002   461.839996   461.839996   \n",
              "1993-12-16 00:00:00-05:00   461.859985   463.980011   461.859985   463.339996   \n",
              "1993-12-17 00:00:00-05:00   463.339996   466.380005   463.339996   466.380005   \n",
              "1993-12-20 00:00:00-05:00   466.380005   466.899994   465.529999   465.850006   \n",
              "...                                ...          ...          ...          ...   \n",
              "2022-10-27 00:00:00-04:00  3834.689941  3859.949951  3803.790039  3807.300049   \n",
              "2022-10-28 00:00:00-04:00  3808.260010  3905.419922  3808.260010  3901.060059   \n",
              "2022-10-31 00:00:00-04:00  3881.850098  3893.729980  3863.179932  3871.979980   \n",
              "2022-11-01 00:00:00-04:00  3901.790039  3911.790039  3843.800049  3856.100098   \n",
              "2022-11-02 00:00:00-04:00  3852.899902  3894.439941  3758.679932  3759.689941   \n",
              "\n",
              "                               Volume  Tomorrow Price  Target  Close_Ratio_2  \\\n",
              "Date                                                                           \n",
              "1993-12-14 00:00:00-05:00   275050000      461.839996       0       0.997157   \n",
              "1993-12-15 00:00:00-05:00   331770000      463.339996       1       0.998681   \n",
              "1993-12-16 00:00:00-05:00   284620000      466.380005       1       1.001621   \n",
              "1993-12-17 00:00:00-05:00   363750000      465.850006       0       1.003270   \n",
              "1993-12-20 00:00:00-05:00   255900000      465.299988       0       0.999431   \n",
              "...                               ...             ...     ...            ...   \n",
              "2022-10-27 00:00:00-04:00  4687320000     3901.060059       1       0.996949   \n",
              "2022-10-28 00:00:00-04:00  4459410000     3871.979980       0       1.012163   \n",
              "2022-10-31 00:00:00-04:00  4820620000     3856.100098       0       0.996259   \n",
              "2022-11-01 00:00:00-04:00  4481210000     3759.689941       0       0.997945   \n",
              "2022-11-02 00:00:00-04:00  4899000000     3719.889893       0       0.987341   \n",
              "\n",
              "                           Trend_2  Close_Ratio_5  Trend_5  Close_Ratio_60  \\\n",
              "Date                                                                         \n",
              "1993-12-14 00:00:00-05:00      1.0       0.996617      1.0        1.000283   \n",
              "1993-12-15 00:00:00-05:00      0.0       0.995899      1.0        0.997329   \n",
              "1993-12-16 00:00:00-05:00      1.0       0.999495      2.0        1.000311   \n",
              "1993-12-17 00:00:00-05:00      2.0       1.004991      3.0        1.006561   \n",
              "1993-12-20 00:00:00-05:00      1.0       1.003784      2.0        1.005120   \n",
              "...                            ...            ...      ...             ...   \n",
              "2022-10-27 00:00:00-04:00      0.0       0.999443      3.0        0.973664   \n",
              "2022-10-28 00:00:00-04:00      1.0       1.016144      3.0        0.998710   \n",
              "2022-10-31 00:00:00-04:00      1.0       1.004663      2.0        0.992422   \n",
              "2022-11-01 00:00:00-04:00      0.0       1.000699      1.0        0.989552   \n",
              "2022-11-02 00:00:00-04:00      0.0       0.979283      1.0        0.966310   \n",
              "\n",
              "                           Trend_60  Close_Ratio_250  Trend_250  \\\n",
              "Date                                                              \n",
              "1993-12-14 00:00:00-05:00      32.0         1.028047      127.0   \n",
              "1993-12-15 00:00:00-05:00      32.0         1.025151      126.0   \n",
              "1993-12-16 00:00:00-05:00      32.0         1.028274      127.0   \n",
              "1993-12-17 00:00:00-05:00      32.0         1.034781      128.0   \n",
              "1993-12-20 00:00:00-05:00      32.0         1.033359      128.0   \n",
              "...                             ...              ...        ...   \n",
              "2022-10-27 00:00:00-04:00      23.0         0.900167      114.0   \n",
              "2022-10-28 00:00:00-04:00      24.0         0.922957      114.0   \n",
              "2022-10-31 00:00:00-04:00      24.0         0.916735      113.0   \n",
              "2022-11-01 00:00:00-04:00      24.0         0.913671      112.0   \n",
              "2022-11-02 00:00:00-04:00      24.0         0.891606      111.0   \n",
              "\n",
              "                           Close_Ratio_1000  Trend_1000  \n",
              "Date                                                     \n",
              "1993-12-14 00:00:00-05:00          1.176082       512.0  \n",
              "1993-12-15 00:00:00-05:00          1.172676       512.0  \n",
              "1993-12-16 00:00:00-05:00          1.176163       513.0  \n",
              "1993-12-17 00:00:00-05:00          1.183537       514.0  \n",
              "1993-12-20 00:00:00-05:00          1.181856       513.0  \n",
              "...                                     ...         ...  \n",
              "2022-10-27 00:00:00-04:00          1.064469       543.0  \n",
              "2022-10-28 00:00:00-04:00          1.090352       543.0  \n",
              "2022-10-31 00:00:00-04:00          1.081902       543.0  \n",
              "2022-11-01 00:00:00-04:00          1.077141       543.0  \n",
              "2022-11-02 00:00:00-04:00          1.049907       543.0  \n",
              "\n",
              "[7275 rows x 17 columns]"
            ],
            "text/html": [
              "\n",
              "  <div id=\"df-cfc8319f-6758-4e8f-9301-d29066b234e2\">\n",
              "    <div class=\"colab-df-container\">\n",
              "      <div>\n",
              "<style scoped>\n",
              "    .dataframe tbody tr th:only-of-type {\n",
              "        vertical-align: middle;\n",
              "    }\n",
              "\n",
              "    .dataframe tbody tr th {\n",
              "        vertical-align: top;\n",
              "    }\n",
              "\n",
              "    .dataframe thead th {\n",
              "        text-align: right;\n",
              "    }\n",
              "</style>\n",
              "<table border=\"1\" class=\"dataframe\">\n",
              "  <thead>\n",
              "    <tr style=\"text-align: right;\">\n",
              "      <th></th>\n",
              "      <th>Open</th>\n",
              "      <th>High</th>\n",
              "      <th>Low</th>\n",
              "      <th>Close</th>\n",
              "      <th>Volume</th>\n",
              "      <th>Tomorrow Price</th>\n",
              "      <th>Target</th>\n",
              "      <th>Close_Ratio_2</th>\n",
              "      <th>Trend_2</th>\n",
              "      <th>Close_Ratio_5</th>\n",
              "      <th>Trend_5</th>\n",
              "      <th>Close_Ratio_60</th>\n",
              "      <th>Trend_60</th>\n",
              "      <th>Close_Ratio_250</th>\n",
              "      <th>Trend_250</th>\n",
              "      <th>Close_Ratio_1000</th>\n",
              "      <th>Trend_1000</th>\n",
              "    </tr>\n",
              "    <tr>\n",
              "      <th>Date</th>\n",
              "      <th></th>\n",
              "      <th></th>\n",
              "      <th></th>\n",
              "      <th></th>\n",
              "      <th></th>\n",
              "      <th></th>\n",
              "      <th></th>\n",
              "      <th></th>\n",
              "      <th></th>\n",
              "      <th></th>\n",
              "      <th></th>\n",
              "      <th></th>\n",
              "      <th></th>\n",
              "      <th></th>\n",
              "      <th></th>\n",
              "      <th></th>\n",
              "      <th></th>\n",
              "    </tr>\n",
              "  </thead>\n",
              "  <tbody>\n",
              "    <tr>\n",
              "      <th>1993-12-14 00:00:00-05:00</th>\n",
              "      <td>465.730011</td>\n",
              "      <td>466.119995</td>\n",
              "      <td>462.459991</td>\n",
              "      <td>463.059998</td>\n",
              "      <td>275050000</td>\n",
              "      <td>461.839996</td>\n",
              "      <td>0</td>\n",
              "      <td>0.997157</td>\n",
              "      <td>1.0</td>\n",
              "      <td>0.996617</td>\n",
              "      <td>1.0</td>\n",
              "      <td>1.000283</td>\n",
              "      <td>32.0</td>\n",
              "      <td>1.028047</td>\n",
              "      <td>127.0</td>\n",
              "      <td>1.176082</td>\n",
              "      <td>512.0</td>\n",
              "    </tr>\n",
              "    <tr>\n",
              "      <th>1993-12-15 00:00:00-05:00</th>\n",
              "      <td>463.059998</td>\n",
              "      <td>463.690002</td>\n",
              "      <td>461.839996</td>\n",
              "      <td>461.839996</td>\n",
              "      <td>331770000</td>\n",
              "      <td>463.339996</td>\n",
              "      <td>1</td>\n",
              "      <td>0.998681</td>\n",
              "      <td>0.0</td>\n",
              "      <td>0.995899</td>\n",
              "      <td>1.0</td>\n",
              "      <td>0.997329</td>\n",
              "      <td>32.0</td>\n",
              "      <td>1.025151</td>\n",
              "      <td>126.0</td>\n",
              "      <td>1.172676</td>\n",
              "      <td>512.0</td>\n",
              "    </tr>\n",
              "    <tr>\n",
              "      <th>1993-12-16 00:00:00-05:00</th>\n",
              "      <td>461.859985</td>\n",
              "      <td>463.980011</td>\n",
              "      <td>461.859985</td>\n",
              "      <td>463.339996</td>\n",
              "      <td>284620000</td>\n",
              "      <td>466.380005</td>\n",
              "      <td>1</td>\n",
              "      <td>1.001621</td>\n",
              "      <td>1.0</td>\n",
              "      <td>0.999495</td>\n",
              "      <td>2.0</td>\n",
              "      <td>1.000311</td>\n",
              "      <td>32.0</td>\n",
              "      <td>1.028274</td>\n",
              "      <td>127.0</td>\n",
              "      <td>1.176163</td>\n",
              "      <td>513.0</td>\n",
              "    </tr>\n",
              "    <tr>\n",
              "      <th>1993-12-17 00:00:00-05:00</th>\n",
              "      <td>463.339996</td>\n",
              "      <td>466.380005</td>\n",
              "      <td>463.339996</td>\n",
              "      <td>466.380005</td>\n",
              "      <td>363750000</td>\n",
              "      <td>465.850006</td>\n",
              "      <td>0</td>\n",
              "      <td>1.003270</td>\n",
              "      <td>2.0</td>\n",
              "      <td>1.004991</td>\n",
              "      <td>3.0</td>\n",
              "      <td>1.006561</td>\n",
              "      <td>32.0</td>\n",
              "      <td>1.034781</td>\n",
              "      <td>128.0</td>\n",
              "      <td>1.183537</td>\n",
              "      <td>514.0</td>\n",
              "    </tr>\n",
              "    <tr>\n",
              "      <th>1993-12-20 00:00:00-05:00</th>\n",
              "      <td>466.380005</td>\n",
              "      <td>466.899994</td>\n",
              "      <td>465.529999</td>\n",
              "      <td>465.850006</td>\n",
              "      <td>255900000</td>\n",
              "      <td>465.299988</td>\n",
              "      <td>0</td>\n",
              "      <td>0.999431</td>\n",
              "      <td>1.0</td>\n",
              "      <td>1.003784</td>\n",
              "      <td>2.0</td>\n",
              "      <td>1.005120</td>\n",
              "      <td>32.0</td>\n",
              "      <td>1.033359</td>\n",
              "      <td>128.0</td>\n",
              "      <td>1.181856</td>\n",
              "      <td>513.0</td>\n",
              "    </tr>\n",
              "    <tr>\n",
              "      <th>...</th>\n",
              "      <td>...</td>\n",
              "      <td>...</td>\n",
              "      <td>...</td>\n",
              "      <td>...</td>\n",
              "      <td>...</td>\n",
              "      <td>...</td>\n",
              "      <td>...</td>\n",
              "      <td>...</td>\n",
              "      <td>...</td>\n",
              "      <td>...</td>\n",
              "      <td>...</td>\n",
              "      <td>...</td>\n",
              "      <td>...</td>\n",
              "      <td>...</td>\n",
              "      <td>...</td>\n",
              "      <td>...</td>\n",
              "      <td>...</td>\n",
              "    </tr>\n",
              "    <tr>\n",
              "      <th>2022-10-27 00:00:00-04:00</th>\n",
              "      <td>3834.689941</td>\n",
              "      <td>3859.949951</td>\n",
              "      <td>3803.790039</td>\n",
              "      <td>3807.300049</td>\n",
              "      <td>4687320000</td>\n",
              "      <td>3901.060059</td>\n",
              "      <td>1</td>\n",
              "      <td>0.996949</td>\n",
              "      <td>0.0</td>\n",
              "      <td>0.999443</td>\n",
              "      <td>3.0</td>\n",
              "      <td>0.973664</td>\n",
              "      <td>23.0</td>\n",
              "      <td>0.900167</td>\n",
              "      <td>114.0</td>\n",
              "      <td>1.064469</td>\n",
              "      <td>543.0</td>\n",
              "    </tr>\n",
              "    <tr>\n",
              "      <th>2022-10-28 00:00:00-04:00</th>\n",
              "      <td>3808.260010</td>\n",
              "      <td>3905.419922</td>\n",
              "      <td>3808.260010</td>\n",
              "      <td>3901.060059</td>\n",
              "      <td>4459410000</td>\n",
              "      <td>3871.979980</td>\n",
              "      <td>0</td>\n",
              "      <td>1.012163</td>\n",
              "      <td>1.0</td>\n",
              "      <td>1.016144</td>\n",
              "      <td>3.0</td>\n",
              "      <td>0.998710</td>\n",
              "      <td>24.0</td>\n",
              "      <td>0.922957</td>\n",
              "      <td>114.0</td>\n",
              "      <td>1.090352</td>\n",
              "      <td>543.0</td>\n",
              "    </tr>\n",
              "    <tr>\n",
              "      <th>2022-10-31 00:00:00-04:00</th>\n",
              "      <td>3881.850098</td>\n",
              "      <td>3893.729980</td>\n",
              "      <td>3863.179932</td>\n",
              "      <td>3871.979980</td>\n",
              "      <td>4820620000</td>\n",
              "      <td>3856.100098</td>\n",
              "      <td>0</td>\n",
              "      <td>0.996259</td>\n",
              "      <td>1.0</td>\n",
              "      <td>1.004663</td>\n",
              "      <td>2.0</td>\n",
              "      <td>0.992422</td>\n",
              "      <td>24.0</td>\n",
              "      <td>0.916735</td>\n",
              "      <td>113.0</td>\n",
              "      <td>1.081902</td>\n",
              "      <td>543.0</td>\n",
              "    </tr>\n",
              "    <tr>\n",
              "      <th>2022-11-01 00:00:00-04:00</th>\n",
              "      <td>3901.790039</td>\n",
              "      <td>3911.790039</td>\n",
              "      <td>3843.800049</td>\n",
              "      <td>3856.100098</td>\n",
              "      <td>4481210000</td>\n",
              "      <td>3759.689941</td>\n",
              "      <td>0</td>\n",
              "      <td>0.997945</td>\n",
              "      <td>0.0</td>\n",
              "      <td>1.000699</td>\n",
              "      <td>1.0</td>\n",
              "      <td>0.989552</td>\n",
              "      <td>24.0</td>\n",
              "      <td>0.913671</td>\n",
              "      <td>112.0</td>\n",
              "      <td>1.077141</td>\n",
              "      <td>543.0</td>\n",
              "    </tr>\n",
              "    <tr>\n",
              "      <th>2022-11-02 00:00:00-04:00</th>\n",
              "      <td>3852.899902</td>\n",
              "      <td>3894.439941</td>\n",
              "      <td>3758.679932</td>\n",
              "      <td>3759.689941</td>\n",
              "      <td>4899000000</td>\n",
              "      <td>3719.889893</td>\n",
              "      <td>0</td>\n",
              "      <td>0.987341</td>\n",
              "      <td>0.0</td>\n",
              "      <td>0.979283</td>\n",
              "      <td>1.0</td>\n",
              "      <td>0.966310</td>\n",
              "      <td>24.0</td>\n",
              "      <td>0.891606</td>\n",
              "      <td>111.0</td>\n",
              "      <td>1.049907</td>\n",
              "      <td>543.0</td>\n",
              "    </tr>\n",
              "  </tbody>\n",
              "</table>\n",
              "<p>7275 rows × 17 columns</p>\n",
              "</div>\n",
              "      <button class=\"colab-df-convert\" onclick=\"convertToInteractive('df-cfc8319f-6758-4e8f-9301-d29066b234e2')\"\n",
              "              title=\"Convert this dataframe to an interactive table.\"\n",
              "              style=\"display:none;\">\n",
              "        \n",
              "  <svg xmlns=\"http://www.w3.org/2000/svg\" height=\"24px\"viewBox=\"0 0 24 24\"\n",
              "       width=\"24px\">\n",
              "    <path d=\"M0 0h24v24H0V0z\" fill=\"none\"/>\n",
              "    <path d=\"M18.56 5.44l.94 2.06.94-2.06 2.06-.94-2.06-.94-.94-2.06-.94 2.06-2.06.94zm-11 1L8.5 8.5l.94-2.06 2.06-.94-2.06-.94L8.5 2.5l-.94 2.06-2.06.94zm10 10l.94 2.06.94-2.06 2.06-.94-2.06-.94-.94-2.06-.94 2.06-2.06.94z\"/><path d=\"M17.41 7.96l-1.37-1.37c-.4-.4-.92-.59-1.43-.59-.52 0-1.04.2-1.43.59L10.3 9.45l-7.72 7.72c-.78.78-.78 2.05 0 2.83L4 21.41c.39.39.9.59 1.41.59.51 0 1.02-.2 1.41-.59l7.78-7.78 2.81-2.81c.8-.78.8-2.07 0-2.86zM5.41 20L4 18.59l7.72-7.72 1.47 1.35L5.41 20z\"/>\n",
              "  </svg>\n",
              "      </button>\n",
              "      \n",
              "  <style>\n",
              "    .colab-df-container {\n",
              "      display:flex;\n",
              "      flex-wrap:wrap;\n",
              "      gap: 12px;\n",
              "    }\n",
              "\n",
              "    .colab-df-convert {\n",
              "      background-color: #E8F0FE;\n",
              "      border: none;\n",
              "      border-radius: 50%;\n",
              "      cursor: pointer;\n",
              "      display: none;\n",
              "      fill: #1967D2;\n",
              "      height: 32px;\n",
              "      padding: 0 0 0 0;\n",
              "      width: 32px;\n",
              "    }\n",
              "\n",
              "    .colab-df-convert:hover {\n",
              "      background-color: #E2EBFA;\n",
              "      box-shadow: 0px 1px 2px rgba(60, 64, 67, 0.3), 0px 1px 3px 1px rgba(60, 64, 67, 0.15);\n",
              "      fill: #174EA6;\n",
              "    }\n",
              "\n",
              "    [theme=dark] .colab-df-convert {\n",
              "      background-color: #3B4455;\n",
              "      fill: #D2E3FC;\n",
              "    }\n",
              "\n",
              "    [theme=dark] .colab-df-convert:hover {\n",
              "      background-color: #434B5C;\n",
              "      box-shadow: 0px 1px 3px 1px rgba(0, 0, 0, 0.15);\n",
              "      filter: drop-shadow(0px 1px 2px rgba(0, 0, 0, 0.3));\n",
              "      fill: #FFFFFF;\n",
              "    }\n",
              "  </style>\n",
              "\n",
              "      <script>\n",
              "        const buttonEl =\n",
              "          document.querySelector('#df-cfc8319f-6758-4e8f-9301-d29066b234e2 button.colab-df-convert');\n",
              "        buttonEl.style.display =\n",
              "          google.colab.kernel.accessAllowed ? 'block' : 'none';\n",
              "\n",
              "        async function convertToInteractive(key) {\n",
              "          const element = document.querySelector('#df-cfc8319f-6758-4e8f-9301-d29066b234e2');\n",
              "          const dataTable =\n",
              "            await google.colab.kernel.invokeFunction('convertToInteractive',\n",
              "                                                     [key], {});\n",
              "          if (!dataTable) return;\n",
              "\n",
              "          const docLinkHtml = 'Like what you see? Visit the ' +\n",
              "            '<a target=\"_blank\" href=https://colab.research.google.com/notebooks/data_table.ipynb>data table notebook</a>'\n",
              "            + ' to learn more about interactive tables.';\n",
              "          element.innerHTML = '';\n",
              "          dataTable['output_type'] = 'display_data';\n",
              "          await google.colab.output.renderOutput(dataTable, element);\n",
              "          const docLink = document.createElement('div');\n",
              "          docLink.innerHTML = docLinkHtml;\n",
              "          element.appendChild(docLink);\n",
              "        }\n",
              "      </script>\n",
              "    </div>\n",
              "  </div>\n",
              "  "
            ]
          },
          "metadata": {},
          "execution_count": 66
        }
      ]
    },
    {
      "cell_type": "code",
      "source": [
        "model = RandomForestClassifier(n_estimators=300, min_samples_split=50, random_state=1)"
      ],
      "metadata": {
        "id": "TGeFuu-VQRFj"
      },
      "execution_count": null,
      "outputs": []
    },
    {
      "cell_type": "code",
      "source": [
        "def predict(train, test, predictors, model): \n",
        "    model.fit(train[predictors], train[\"Target\"])\n",
        "    predictions = model.predict_proba(test[predictors])[:,1]\n",
        "    predictions[predictions >= .6] = 1\n",
        "    predictions[predictions < .6] = 0\n",
        "    predictions = pd.Series(predictions, index=test.index, name=\"Predictions\")\n",
        "    combined = pd.concat([test[\"Target\"], predictions], axis=1)\n",
        "    return combined"
      ],
      "metadata": {
        "id": "VKmwr0wWRKM4"
      },
      "execution_count": null,
      "outputs": []
    },
    {
      "cell_type": "code",
      "source": [
        "predictions1 = backtest(sp500, model, new_predictors)"
      ],
      "metadata": {
        "id": "qN5F-5YjRo27"
      },
      "execution_count": null,
      "outputs": []
    },
    {
      "cell_type": "code",
      "source": [
        "predictions1[\"Predictions\"].value_counts()"
      ],
      "metadata": {
        "colab": {
          "base_uri": "https://localhost:8080/"
        },
        "id": "3rBj0_UHSkDR",
        "outputId": "7036e2d7-fe84-4322-9f53-aa9bcdbf0563"
      },
      "execution_count": null,
      "outputs": [
        {
          "output_type": "execute_result",
          "data": {
            "text/plain": [
              "0.0    3993\n",
              "1.0     782\n",
              "Name: Predictions, dtype: int64"
            ]
          },
          "metadata": {},
          "execution_count": 75
        }
      ]
    },
    {
      "cell_type": "code",
      "source": [
        "precision_score(predictions1[\"Target\"], predictions1[\"Predictions\"])"
      ],
      "metadata": {
        "colab": {
          "base_uri": "https://localhost:8080/"
        },
        "id": "4ZjgUPYYS0rA",
        "outputId": "89efe056-f5a2-440b-87dc-5c8d029a8c80"
      },
      "execution_count": null,
      "outputs": [
        {
          "output_type": "execute_result",
          "data": {
            "text/plain": [
              "0.5677749360613811"
            ]
          },
          "metadata": {},
          "execution_count": 76
        }
      ]
    }
  ]
}